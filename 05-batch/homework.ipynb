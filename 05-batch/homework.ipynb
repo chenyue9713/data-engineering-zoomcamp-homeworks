{
 "cells": [
  {
   "cell_type": "code",
   "execution_count": 1,
   "id": "3db77c5e-dd3f-4edd-a083-5001270ee522",
   "metadata": {},
   "outputs": [],
   "source": [
    "import pyspark\n",
    "from pyspark.sql import SparkSession"
   ]
  },
  {
   "cell_type": "code",
   "execution_count": 2,
   "id": "4139216d-f592-4a22-9b1b-fddb5d568f60",
   "metadata": {},
   "outputs": [
    {
     "name": "stderr",
     "output_type": "stream",
     "text": [
      "25/03/11 21:47:42 WARN Utils: Your hostname, DESKTOP-2TKP1T7 resolves to a loopback address: 127.0.1.1; using 10.255.255.254 instead (on interface lo)\n",
      "25/03/11 21:47:42 WARN Utils: Set SPARK_LOCAL_IP if you need to bind to another address\n",
      "Setting default log level to \"WARN\".\n",
      "To adjust logging level use sc.setLogLevel(newLevel). For SparkR, use setLogLevel(newLevel).\n",
      "25/03/11 21:47:42 WARN NativeCodeLoader: Unable to load native-hadoop library for your platform... using builtin-java classes where applicable\n"
     ]
    }
   ],
   "source": [
    "spark = SparkSession.builder \\\n",
    "    .master(\"local[*]\") \\\n",
    "    .appName('test') \\\n",
    "    .getOrCreate()"
   ]
  },
  {
   "cell_type": "code",
   "execution_count": 82,
   "id": "f12656ee-80db-4c18-bd6f-c904ad216f69",
   "metadata": {},
   "outputs": [
    {
     "name": "stderr",
     "output_type": "stream",
     "text": [
      "                                                                                "
     ]
    }
   ],
   "source": [
    "input_path = 'yellow_tripdata_2024-10.parquet'\n",
    "output_path = 'data/pq/yellow/2024/10'\n",
    "df_yellow = spark.read.parquet(input_path)\n",
    "df_yellow = df_yellow.dropna(how=\"all\")\n",
    "df_yellow.repartition(4).write.parquet(output_path,mode=\"overwrite\")"
   ]
  },
  {
   "cell_type": "code",
   "execution_count": 70,
   "id": "f80458e1-bd54-4a32-a7b4-f826d5ec6242",
   "metadata": {},
   "outputs": [
    {
     "name": "stdout",
     "output_type": "stream",
     "text": [
      "root\n",
      " |-- VendorID: integer (nullable = true)\n",
      " |-- tpep_pickup_datetime: timestamp_ntz (nullable = true)\n",
      " |-- tpep_dropoff_datetime: timestamp_ntz (nullable = true)\n",
      " |-- passenger_count: long (nullable = true)\n",
      " |-- trip_distance: double (nullable = true)\n",
      " |-- RatecodeID: long (nullable = true)\n",
      " |-- store_and_fwd_flag: string (nullable = true)\n",
      " |-- PULocationID: integer (nullable = true)\n",
      " |-- DOLocationID: integer (nullable = true)\n",
      " |-- payment_type: long (nullable = true)\n",
      " |-- fare_amount: double (nullable = true)\n",
      " |-- extra: double (nullable = true)\n",
      " |-- mta_tax: double (nullable = true)\n",
      " |-- tip_amount: double (nullable = true)\n",
      " |-- tolls_amount: double (nullable = true)\n",
      " |-- improvement_surcharge: double (nullable = true)\n",
      " |-- total_amount: double (nullable = true)\n",
      " |-- congestion_surcharge: double (nullable = true)\n",
      " |-- Airport_fee: double (nullable = true)\n",
      "\n"
     ]
    }
   ],
   "source": [
    "df_yellow.printSchema()"
   ]
  },
  {
   "cell_type": "code",
   "execution_count": 83,
   "id": "171ac426-ce1d-4179-ae93-9bb7aa04f99d",
   "metadata": {},
   "outputs": [],
   "source": [
    "df_yellow.createOrReplaceTempView('yellow_tripdata_2024')"
   ]
  },
  {
   "cell_type": "code",
   "execution_count": 84,
   "id": "ab0bd147-8020-418c-b450-b6b07cc3d14d",
   "metadata": {},
   "outputs": [
    {
     "name": "stdout",
     "output_type": "stream",
     "text": [
      "+--------+\n",
      "|count(1)|\n",
      "+--------+\n",
      "|  128893|\n",
      "+--------+\n",
      "\n"
     ]
    }
   ],
   "source": [
    "trips_count = spark.sql(\"\"\"WITH day_tripdata AS( \n",
    "                            SELECT date_trunc('day', tpep_pickup_datetime) as pickup_date,\n",
    "                                   date_trunc('day', tpep_dropoff_datetime) as dropoff_date\n",
    "                             FROM yellow_tripdata_2024\n",
    "                             ) \n",
    "                             SELECT COUNT(*) \n",
    "                             FROM day_tripdata \n",
    "                             WHERE pickup_date = '2024-10-15 00:00:00'\n",
    "                        \"\"\"\n",
    "                        )\n",
    "trips_count.show()"
   ]
  },
  {
   "cell_type": "code",
   "execution_count": 85,
   "id": "85cef8e2-6fc2-40ff-bd20-2e8d4209160c",
   "metadata": {},
   "outputs": [
    {
     "name": "stdout",
     "output_type": "stream",
     "text": [
      "+--------------+\n",
      "|max(trip_hour)|\n",
      "+--------------+\n",
      "|         162.0|\n",
      "+--------------+\n",
      "\n"
     ]
    },
    {
     "name": "stderr",
     "output_type": "stream",
     "text": [
      "                                                                                "
     ]
    }
   ],
   "source": [
    "trips_count = spark.sql(\"\"\"WITH day_tripdata AS( \n",
    "                                SELECT date_trunc('hour', tpep_pickup_datetime) as pickup_date,\n",
    "                                       date_trunc('hour', tpep_dropoff_datetime) as dropoff_date,\n",
    "                                       trip_distance\n",
    "                                 FROM yellow_tripdata_2024\n",
    "                             ),\n",
    "                             trip_hours AS (\n",
    "                                 SELECT \n",
    "                                     (UNIX_TIMESTAMP(dropoff_date) - UNIX_TIMESTAMP(pickup_date)) / 3600 AS trip_hour\n",
    "                                 FROM \n",
    "                                     day_tripdata\n",
    "                             )\n",
    "                             SELECT \n",
    "                                 MAX(trip_hour)\n",
    "                             FROM trip_hours\n",
    "                        \"\"\"\n",
    "                        )\n",
    "trips_count.show()"
   ]
  },
  {
   "cell_type": "code",
   "execution_count": 11,
   "id": "ffa47e0a-39a3-4548-aebe-8f1d06e4fcbf",
   "metadata": {},
   "outputs": [
    {
     "name": "stdout",
     "output_type": "stream",
     "text": [
      "+----------+-------------+--------------------+------------+\n",
      "|LocationID|      Borough|                Zone|service_zone|\n",
      "+----------+-------------+--------------------+------------+\n",
      "|         1|          EWR|      Newark Airport|         EWR|\n",
      "|         2|       Queens|         Jamaica Bay|   Boro Zone|\n",
      "|         3|        Bronx|Allerton/Pelham G...|   Boro Zone|\n",
      "|         4|    Manhattan|       Alphabet City| Yellow Zone|\n",
      "|         5|Staten Island|       Arden Heights|   Boro Zone|\n",
      "|         6|Staten Island|Arrochar/Fort Wad...|   Boro Zone|\n",
      "|         7|       Queens|             Astoria|   Boro Zone|\n",
      "|         8|       Queens|        Astoria Park|   Boro Zone|\n",
      "|         9|       Queens|          Auburndale|   Boro Zone|\n",
      "|        10|       Queens|        Baisley Park|   Boro Zone|\n",
      "|        11|     Brooklyn|          Bath Beach|   Boro Zone|\n",
      "|        12|    Manhattan|        Battery Park| Yellow Zone|\n",
      "|        13|    Manhattan|   Battery Park City| Yellow Zone|\n",
      "|        14|     Brooklyn|           Bay Ridge|   Boro Zone|\n",
      "|        15|       Queens|Bay Terrace/Fort ...|   Boro Zone|\n",
      "|        16|       Queens|             Bayside|   Boro Zone|\n",
      "|        17|     Brooklyn|             Bedford|   Boro Zone|\n",
      "|        18|        Bronx|        Bedford Park|   Boro Zone|\n",
      "|        19|       Queens|           Bellerose|   Boro Zone|\n",
      "|        20|        Bronx|             Belmont|   Boro Zone|\n",
      "+----------+-------------+--------------------+------------+\n",
      "only showing top 20 rows\n",
      "\n"
     ]
    }
   ],
   "source": [
    "df_taxi_zone = spark.read \\\n",
    "            .option(\"header\", \"true\") \\\n",
    "            .csv('taxi_zone_lookup.csv')\n",
    "df_taxi_zone.show()"
   ]
  },
  {
   "cell_type": "code",
   "execution_count": 14,
   "id": "f231187f-7834-497d-977b-de8b83e7e712",
   "metadata": {},
   "outputs": [],
   "source": [
    "df_taxi_zone.createOrReplaceTempView('taxi_zone_lookup')"
   ]
  },
  {
   "cell_type": "code",
   "execution_count": 86,
   "id": "4837d5bd-813e-4f76-a6e0-5fe537ae346b",
   "metadata": {},
   "outputs": [],
   "source": [
    "df_join = df_yellow.join(df_taxi_zone, df_taxi_zone.LocationID == df_yellow.PULocationID, how='inner')\\\n",
    "                    .select(df_taxi_zone.Zone)\n",
    "                    "
   ]
  },
  {
   "cell_type": "code",
   "execution_count": 87,
   "id": "99b1f033-d873-459d-8a4a-57704b16beec",
   "metadata": {},
   "outputs": [],
   "source": [
    "df_join.createOrReplaceTempView('taxi_zone_join')"
   ]
  },
  {
   "cell_type": "code",
   "execution_count": 89,
   "id": "1635b8fa-9a9c-43e5-8d5d-da718309bf98",
   "metadata": {},
   "outputs": [
    {
     "name": "stdout",
     "output_type": "stream",
     "text": [
      "+-----------------+--------------------+\n",
      "|pickup_zone_count|                Zone|\n",
      "+-----------------+--------------------+\n",
      "|                1|Governor's Island...|\n",
      "|                2|       Rikers Island|\n",
      "|                2|       Arden Heights|\n",
      "|                3|         Jamaica Bay|\n",
      "|                3| Green-Wood Cemetery|\n",
      "|                4|Charleston/Totten...|\n",
      "|                4|   Rossville/Woodrow|\n",
      "|                4|       West Brighton|\n",
      "|                4|Eltingville/Annad...|\n",
      "|                4|       Port Richmond|\n",
      "|                6|         Great Kills|\n",
      "|                6|        Crotona Park|\n",
      "|                7|Heartland Village...|\n",
      "|                7|     Mariners Harbor|\n",
      "|                9|Saint George/New ...|\n",
      "|                9|             Oakwood|\n",
      "|               10|       Broad Channel|\n",
      "|               10|New Dorp/Midland ...|\n",
      "|               12|         Westerleigh|\n",
      "|               12|     Pelham Bay Park|\n",
      "+-----------------+--------------------+\n",
      "only showing top 20 rows\n",
      "\n"
     ]
    }
   ],
   "source": [
    "df_least_frequent_zone = spark.sql(\"\"\"\n",
    "                                        WITH taxi_pickup_zone_count AS (\n",
    "                                            SELECT \n",
    "                                                COUNT(*) as pickup_zone_count, \n",
    "                                                Zone\n",
    "                                            FROM\n",
    "                                                taxi_zone_join\n",
    "                                            GROUP BY\n",
    "                                                Zone\n",
    "                                        )\n",
    "                                        SELECT \n",
    "                                            *\n",
    "                                        FROM \n",
    "                                            taxi_pickup_zone_count\n",
    "                                        ORDER BY pickup_zone_count ASC\n",
    "                                    \"\"\"\n",
    "                                  ).show()"
   ]
  },
  {
   "cell_type": "code",
   "execution_count": null,
   "id": "a188d0e0-862f-4776-adaa-3e740eedde97",
   "metadata": {},
   "outputs": [],
   "source": []
  }
 ],
 "metadata": {
  "kernelspec": {
   "display_name": "Python 3 (ipykernel)",
   "language": "python",
   "name": "python3"
  },
  "language_info": {
   "codemirror_mode": {
    "name": "ipython",
    "version": 3
   },
   "file_extension": ".py",
   "mimetype": "text/x-python",
   "name": "python",
   "nbconvert_exporter": "python",
   "pygments_lexer": "ipython3",
   "version": "3.12.3"
  }
 },
 "nbformat": 4,
 "nbformat_minor": 5
}
